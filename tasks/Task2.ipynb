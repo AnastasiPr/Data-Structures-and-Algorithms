{
 "cells": [
  {
   "cell_type": "markdown",
   "id": "arctic-stocks",
   "metadata": {},
   "source": [
    "### Задание №1\n",
    "Массив A состоит из целых положительных чисел длин отрезков. Составьте из трех отрезков такой треугольник, чтобы его периметр был максимально возможным. Если невозможно составить треугольник с положительной площадью функция возвращает 0."
   ]
  },
  {
   "cell_type": "code",
   "execution_count": 1,
   "id": "caring-truck",
   "metadata": {
    "scrolled": false
   },
   "outputs": [
    {
     "data": {
      "text/plain": [
       "22"
      ]
     },
     "execution_count": 1,
     "metadata": {},
     "output_type": "execute_result"
    }
   ],
   "source": [
    "def triangle(mas):\n",
    "    for i in range(0,len(mas)-5):\n",
    "        if mas[i] + mas[i+1] > mas[i+2]:\n",
    "            return mas[i] + mas[i+1] + mas[i+2]\n",
    "    return 0\n",
    "\n",
    "arr=[1,3,5,4,8,9]\n",
    "arr.sort(reverse = True)\n",
    "triangle(arr)"
   ]
  },
  {
   "cell_type": "markdown",
   "id": "maritime-conversation",
   "metadata": {},
   "source": [
    "### Задание №2\n",
    "Дан массив неотрицательных целых чисел nums. Расположите их в таком порядке, чтобы вместе они образовали максимально возможное число. Замечание: Результат может быть очень большим числом, поэтому представьте его как string, а не integer."
   ]
  },
  {
   "cell_type": "code",
   "execution_count": 2,
   "id": "alert-charm",
   "metadata": {
    "scrolled": false
   },
   "outputs": [
    {
     "name": "stdout",
     "output_type": "stream",
     "text": [
      "3\n",
      "[176, 166, 52]\n",
      "52176166\n"
     ]
    }
   ],
   "source": [
    "from random import randint\n",
    "\n",
    "n = int(input())\n",
    "nums=[randint(0,200) for i in range(0,n)]\n",
    "print(nums)\n",
    "\n",
    "max_len = len(str(max(nums)))\n",
    "nums = [str(i) for i in nums]\n",
    "              \n",
    "# Функция делает число меньшей длины равным по длине с максимумом\n",
    "def change(ch):\n",
    "    return ch + ch[-1] * (max_len - len(ch)) #5 - 55, 9 - 99, 12 - 122\n",
    "\n",
    "sort = sorted(nums, key=change, reverse=True)\n",
    "\n",
    "print(''.join(sort))"
   ]
  },
  {
   "cell_type": "markdown",
   "id": "catholic-roots",
   "metadata": {},
   "source": [
    "### Задание №3\n",
    "Дана матрица mat размером m * n, значения целочисленные. Напишите функцию, сортирующую каждую диагональ матрицы по возрастанию и возвращающую получившуюся матрицу."
   ]
  },
  {
   "cell_type": "code",
   "execution_count": 3,
   "id": "cleared-anniversary",
   "metadata": {
    "scrolled": true
   },
   "outputs": [],
   "source": [
    "import random\n",
    "from random import randint\n",
    "import numpy as np"
   ]
  },
  {
   "cell_type": "code",
   "execution_count": 5,
   "id": "426a50f1",
   "metadata": {},
   "outputs": [
    {
     "name": "stdout",
     "output_type": "stream",
     "text": [
      " 130  78 146   3\n",
      "  20  91  21  50\n",
      " 115  28  22  67\n",
      " \n",
      "  22  21  50   3\n",
      "  20  91  67 146\n",
      " 115  28 130  78\n"
     ]
    }
   ],
   "source": [
    "matrix = np.random.randint(0, 150, (3, 4))\n",
    "\n",
    "def print_matrix(matrix): \n",
    "    for n in matrix: \n",
    "        for i in n: \n",
    "            print (\"{:4d}\".format(i), end = \"\") \n",
    "        print ()\n",
    "        \n",
    "print_matrix(matrix)\n",
    "print(\" \")\n",
    "\n",
    "for i in range((4-1)*(-1),3): #столбцы и строки, правый нижний угол 0\n",
    "    matrix.diagonal(offset = i)\n",
    "    b = np.diagonal(matrix, offset = i)\n",
    "    b.setflags(write = True)\n",
    "    b.sort()\n",
    "   \n",
    "print_matrix(matrix)\n"
   ]
  }
 ],
 "metadata": {
  "kernelspec": {
   "display_name": "Python 3 (ipykernel)",
   "language": "python",
   "name": "python3"
  },
  "language_info": {
   "codemirror_mode": {
    "name": "ipython",
    "version": 3
   },
   "file_extension": ".py",
   "mimetype": "text/x-python",
   "name": "python",
   "nbconvert_exporter": "python",
   "pygments_lexer": "ipython3",
   "version": "3.10.2"
  }
 },
 "nbformat": 4,
 "nbformat_minor": 5
}
