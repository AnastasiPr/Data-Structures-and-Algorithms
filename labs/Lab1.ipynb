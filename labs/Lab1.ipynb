{
 "cells": [
  {
   "cell_type": "markdown",
   "id": "fifteen-sailing",
   "metadata": {},
   "source": [
    "# Лабораторная работа №1\n",
    "## Выполнил студент группы БВТ2004 Гончаренко Анастасия"
   ]
  },
  {
   "cell_type": "markdown",
   "id": "particular-syndicate",
   "metadata": {},
   "source": [
    "### Оглавление\n",
    "1. [Задание 1](#Задание-№1)\n",
    "2. [Задание 2](#Задание-№2)\n",
    "3. [Задание 3](#Задание-№3)\n",
    "4. [Вывод](#Вывод)"
   ]
  },
  {
   "cell_type": "markdown",
   "id": "arctic-stocks",
   "metadata": {},
   "source": [
    "### Задание №1\n",
    "<i> Вызвать функцию print() и передать туда строку Hello, World! </i>"
   ]
  },
  {
   "cell_type": "code",
   "execution_count": 1,
   "id": "caring-truck",
   "metadata": {
    "scrolled": true
   },
   "outputs": [
    {
     "name": "stdout",
     "output_type": "stream",
     "text": [
      "Hello, World!\n"
     ]
    }
   ],
   "source": [
    "print(\"Hello, World!\")"
   ]
  },
  {
   "cell_type": "markdown",
   "id": "maritime-conversation",
   "metadata": {},
   "source": [
    "### Задание №2\n",
    "Написать генератор случайных матриц(многомерных), который принимает\n",
    "опциональные параметры <b>m</b>, <b>n</b>, <b>min_limit</b>, <b>max_limit</b>, где <b>m</b> и <b>n</b> указывают размер\n",
    "матрицы, а <b>min_lim</b> и <b>max_lim</b> - минимальное и максимальное значение для\n",
    "генерируемого числа."
   ]
  },
  {
   "cell_type": "code",
   "execution_count": 2,
   "id": "built-contact",
   "metadata": {},
   "outputs": [],
   "source": [
    "from random import randint\n",
    "from random import choice\n",
    "import time"
   ]
  },
  {
   "cell_type": "code",
   "execution_count": 3,
   "id": "alert-charm",
   "metadata": {},
   "outputs": [
    {
     "name": "stdout",
     "output_type": "stream",
     "text": [
      "4\n",
      "5\n",
      "0\n",
      "100\n",
      "[[35, 53, 24, 59], [81, 94, 88, 18], [73, 75, 97, 98], [61, 1, 63, 79], [59, 26, 34, 30]]\n"
     ]
    }
   ],
   "source": [
    "user_m = int(input()) #строки\n",
    "user_n = int(input()) #столбцы\n",
    "user_min_limit = int(input())\n",
    "user_max_limit = int(input())\n",
    "mat1 = []\n",
    "\n",
    "for i in range(0,user_n):\n",
    "    mat2 = []\n",
    "    for j in range(0,user_m):\n",
    "        mat2.append(randint(user_min_limit,user_max_limit))\n",
    "    mat1.append(mat2)\n",
    "\n",
    "print(mat1)"
   ]
  },
  {
   "cell_type": "markdown",
   "id": "catholic-roots",
   "metadata": {},
   "source": [
    "### Задание №3\n",
    "Реализовать методы сортировки строк числовой матрицы в соответствии с\n",
    "заданием. Оценить время работы каждого алгоритма сортировки и сравнить его со\n",
    "временем стандартной функции сортировки. Испытания проводить на сгенерированных\n",
    "матрицах."
   ]
  },
  {
   "cell_type": "code",
   "execution_count": 4,
   "id": "opposed-creature",
   "metadata": {},
   "outputs": [],
   "source": [
    "from copy import *"
   ]
  },
  {
   "cell_type": "code",
   "execution_count": 5,
   "id": "cleared-anniversary",
   "metadata": {},
   "outputs": [
    {
     "name": "stdout",
     "output_type": "stream",
     "text": [
      "--- 0.9673 ms ---\n",
      "[[24, 35, 53, 59], [18, 81, 88, 94], [73, 75, 97, 98], [1, 61, 63, 79], [59, 26, 34, 30]]\n"
     ]
    }
   ],
   "source": [
    "# Сортировка выбором.\n",
    "# Берётся срез массива, в котором минимальный элемент переносят в самый левый угол,\n",
    "# после чего срез уменьшается и цикл повторяется.\n",
    "start_time = time.time()\n",
    "\n",
    "mat = deepcopy(mat1)\n",
    "\n",
    "def selection_sort(list):\n",
    "    for i in range(len(list) - 1):\n",
    "        min = i\n",
    "        j = i + 1\n",
    "        while j < len(list):\n",
    "            if list[j] < list[min]:\n",
    "                min = j\n",
    "            j += 1\n",
    "        list[i], list[min] = list[min], list[i]\n",
    "    return list\n",
    "\n",
    "for p in range(user_m):\n",
    "    selection_sort(mat[p])\n",
    "\n",
    "print(\"--- {:.4f} ms ---\".format((time.time() - start_time)*1000))\n",
    "print(mat)"
   ]
  },
  {
   "cell_type": "code",
   "execution_count": 6,
   "id": "roman-silly",
   "metadata": {
    "scrolled": true
   },
   "outputs": [
    {
     "name": "stdout",
     "output_type": "stream",
     "text": [
      "--- 1.0078 ms ---\n",
      "[[24, 35, 53, 59], [18, 81, 88, 94], [73, 75, 97, 98], [1, 61, 63, 79], [59, 26, 34, 30]]\n"
     ]
    }
   ],
   "source": [
    "# Сортировка вставкой.\n",
    "start_time = time.time()\n",
    "\n",
    "mat = deepcopy(mat1)\n",
    "\n",
    "def insertion_sort(list):\n",
    "    for i in range(1, len(list)):\n",
    "        temp = list[i]\n",
    "        j = i - 1\n",
    "        while (j >= 0 and temp < list[j]):\n",
    "            list[j + 1] = list[j]\n",
    "            j = j - 1\n",
    "        list[j + 1] = temp\n",
    "    return list\n",
    "\n",
    "for p in range(user_m):\n",
    "    insertion_sort(mat[p])\n",
    "\n",
    "print(\"--- {:.4f} ms ---\".format((time.time() - start_time)*1000))\n",
    "print(mat) "
   ]
  },
  {
   "cell_type": "code",
   "execution_count": 7,
   "id": "vital-implementation",
   "metadata": {},
   "outputs": [
    {
     "name": "stdout",
     "output_type": "stream",
     "text": [
      "--- 1.0006 ms ---\n",
      "[[24, 35, 53, 59], [18, 81, 88, 94], [73, 75, 97, 98], [1, 61, 63, 79], [59, 26, 34, 30]]\n"
     ]
    }
   ],
   "source": [
    "# Сортировка обменом. || Сортировка пузырьком.\n",
    "start_time = time.time()\n",
    "\n",
    "mat = deepcopy(mat1)\n",
    "\n",
    "def bubble_sort(list):\n",
    "    for i in range(len(list) - 1):\n",
    "        for j in range(len(list) - i - 1):\n",
    "            if list[j] > list[j + 1]:\n",
    "                list[j], list[j + 1] = list[j + 1], list[j]\n",
    "    return list\n",
    "                \n",
    "for p in range(user_m):\n",
    "    bubble_sort(mat[p])\n",
    "\n",
    "print(\"--- {:.4f} ms ---\".format((time.time() - start_time)*1000))\n",
    "print(mat) "
   ]
  },
  {
   "cell_type": "code",
   "execution_count": 8,
   "id": "veterinary-glory",
   "metadata": {},
   "outputs": [
    {
     "name": "stdout",
     "output_type": "stream",
     "text": [
      "--- 0.9978 ms ---\n",
      "[[24, 35, 53, 59], [18, 81, 88, 94], [73, 75, 97, 98], [1, 61, 63, 79], [59, 26, 34, 30]]\n"
     ]
    }
   ],
   "source": [
    "# Сортировка Шелла.\n",
    "start_time = time.time()\n",
    "\n",
    "mat = deepcopy(mat1)\n",
    "\n",
    "def shell_sort(list):\n",
    "    last_index = len(list) - 1\n",
    "    step = len(list)//2\n",
    "    while step > 0:\n",
    "        for i in range(step, last_index + 1, 1):\n",
    "            j = i\n",
    "            delta = j - step\n",
    "            while delta >= 0 and list[delta] > list[j]:\n",
    "                list[delta], list[j] = list[j], list[delta]\n",
    "                j = delta\n",
    "                delta = j - step\n",
    "        step //= 2\n",
    "    return list\n",
    "\n",
    "for p in range(user_m):\n",
    "    shell_sort(mat[p])\n",
    "\n",
    "print(\"--- {:.4f} ms ---\".format((time.time() - start_time)*1000))\n",
    "print(mat)"
   ]
  },
  {
   "cell_type": "code",
   "execution_count": 9,
   "id": "correct-chaos",
   "metadata": {},
   "outputs": [
    {
     "name": "stdout",
     "output_type": "stream",
     "text": [
      "--- 1.5764 ms ---\n",
      "[[24, 35, 53, 59], [18, 81, 88, 94], [73, 75, 97, 98], [1, 61, 63, 79], [59, 26, 34, 30]]\n"
     ]
    }
   ],
   "source": [
    "import random\n",
    "# Быстрая сортировка.\n",
    "start_time = time.time()\n",
    "\n",
    "mat = deepcopy(mat1)\n",
    "\n",
    "def quick_sort(list):\n",
    "    if len(list) <= 1:\n",
    "        return list\n",
    "    else:\n",
    "        x = list[len(list)//2]\n",
    "        more, less, equal = [], [], []\n",
    "        for i in list:\n",
    "            if i < x:\n",
    "                less.append(i)\n",
    "            elif i > x:\n",
    "                more.append(i)\n",
    "            else:\n",
    "                equal.append(i)\n",
    "        return quick_sort(less) + equal + quick_sort(more)\n",
    "\n",
    "for p in range(user_m):\n",
    "    mat[p] = quick_sort(mat[p])\n",
    "\n",
    "print(\"--- {:.4f} ms ---\".format((time.time() - start_time)*1000))\n",
    "print(mat)"
   ]
  },
  {
   "cell_type": "code",
   "execution_count": 10,
   "id": "french-czech",
   "metadata": {},
   "outputs": [
    {
     "name": "stdout",
     "output_type": "stream",
     "text": [
      "--- 1.9989 ms ---\n",
      "[[24, 35, 53, 59], [18, 81, 88, 94], [73, 75, 97, 98], [1, 61, 63, 79], [26, 30, 34, 59]]\n"
     ]
    }
   ],
   "source": [
    "# Турнирная сортировка.\n",
    "from heapq import *\n",
    "start_time = time.time()\n",
    "\n",
    "mat = deepcopy(mat1)\n",
    "\n",
    "MAX_SIZE = 16\n",
    "\n",
    "def merge(a, b):\n",
    "    result = []\n",
    "    \n",
    "    while len(a) > 0 and len(b) > 0:\n",
    "        if (b[0] < a[0]):\n",
    "            result.append(b.pop(0)) #забирает элемент, удаляя его из списка\n",
    "        else:\n",
    "            result.append(a.pop(0))\n",
    "    \n",
    "    if (len(a) == 0 and len(b) == 0):\n",
    "        return result\n",
    "    \n",
    "    if (len(a) > 0):\n",
    "        result += a\n",
    "    else:\n",
    "        result += b\n",
    "                \n",
    "    return result\n",
    "\n",
    "def optimal_tournament_sort(list):\n",
    "    heap = []\n",
    "    \n",
    "    for i in list:\n",
    "        heappush(heap, i) #Поместить значение i на heap\n",
    "        \n",
    "    for i in range(len(heap)):\n",
    "        list[i] = heappop(heap) #Выталкивает и возвращает наименьший элемент из heap\n",
    "    \n",
    "    return list\n",
    "                \n",
    "def bracketize(list):\n",
    "    heap = []\n",
    "    \n",
    "    while len(heap) <= MAX_SIZE:\n",
    "        heappush(heap, list.pop(0))\n",
    "        \n",
    "    winners = []\n",
    "    losers = []\n",
    "    \n",
    "    while len(list) > 0:\n",
    "        if len(winners) == 0:\n",
    "            winners.append(heappop(heap))\n",
    "            \n",
    "        if list[0] > winners[-1]:\n",
    "            heappush(heap, list.pop(0))\n",
    "        else:\n",
    "            losers.append(list.pop(0))\n",
    "            \n",
    "        if len(heap) > 0:\n",
    "            winners.append(heappop(heap))\n",
    "            \n",
    "    while len(heap) > 0:\n",
    "        winners.append(heappop(heap))\n",
    "        \n",
    "    if len(losers) == 0:\n",
    "        return winners\n",
    "    \n",
    "    return merge(tournament_sort(losers), winners)\n",
    "\n",
    "\n",
    "def tournament_sort(list):\n",
    "    if (len(list) <= MAX_SIZE):\n",
    "        return optimal_tournament_sort(list)\n",
    "    else:\n",
    "        return bracketize(list)\n",
    "\n",
    "for p in range(len(mat)):\n",
    "    mat[p] = tournament_sort(mat[p])\n",
    "\n",
    "print(\"--- {:.4f} ms ---\".format((time.time() - start_time)*1000))\n",
    "print(mat)"
   ]
  },
  {
   "cell_type": "code",
   "execution_count": 11,
   "id": "4cc18b4c",
   "metadata": {},
   "outputs": [
    {
     "name": "stdout",
     "output_type": "stream",
     "text": [
      "--- 1.0011196136 ms ---\n",
      "[[24, 35, 53, 59], [18, 81, 88, 94], [73, 75, 97, 98], [1, 61, 63, 79], [26, 30, 34, 59]]\n"
     ]
    }
   ],
   "source": [
    "#Стандартная сортировка\n",
    "start_time = time.time()\n",
    "\n",
    "mat = deepcopy(mat1)\n",
    "\n",
    "for p in range(len(mat)):\n",
    "    mat[p].sort()\n",
    "\n",
    "print(\"--- {:.10f} ms ---\".format((time.time() - start_time)*1000))\n",
    "print(mat)"
   ]
  },
  {
   "cell_type": "markdown",
   "id": "rental-jerusalem",
   "metadata": {},
   "source": [
    "### Вывод\n"
   ]
  },
  {
   "cell_type": "code",
   "execution_count": null,
   "id": "19e7f6a9",
   "metadata": {},
   "outputs": [],
   "source": [
    "Стандартная сортировка показала лучшие результаты по скорости выполнения алгоритма."
   ]
  }
 ],
 "metadata": {
  "kernelspec": {
   "display_name": "Python 3 (ipykernel)",
   "language": "python",
   "name": "python3"
  },
  "language_info": {
   "codemirror_mode": {
    "name": "ipython",
    "version": 3
   },
   "file_extension": ".py",
   "mimetype": "text/x-python",
   "name": "python",
   "nbconvert_exporter": "python",
   "pygments_lexer": "ipython3",
   "version": "3.10.2"
  }
 },
 "nbformat": 4,
 "nbformat_minor": 5
}
