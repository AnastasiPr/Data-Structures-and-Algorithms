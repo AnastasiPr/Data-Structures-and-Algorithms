{
 "cells": [
  {
   "cell_type": "markdown",
   "metadata": {
    "id": "WPvB9TcMmKA6"
   },
   "source": [
    "\n",
    "\n",
    "\n",
    "# Лабораторная работа №5\n",
    "# Рекурсия. Фракталы."
   ]
  },
  {
   "cell_type": "markdown",
   "metadata": {
    "id": "96Gi_LEvmSVH"
   },
   "source": [
    "## Выполнил студент группы Гончаренко Анастасия Анатольевна БВТ2004\n",
    "***"
   ]
  },
  {
   "cell_type": "markdown",
   "metadata": {
    "id": "4clYOyb0mbEv"
   },
   "source": [
    "### Задание:\n",
    "Реализовать генерацию заданного типа фрактала с применением рекурсивных функций.\n",
    "\n",
    "\n",
    "Добавить возможность задания глубины фрактала. \n",
    "\n",
    "\n",
    "Оценить глубину рекурсии. \n",
    "\n",
    "\n",
    "Построить таблицу зависимости времени построения от глубины фрактала."
   ]
  },
  {
   "cell_type": "markdown",
   "metadata": {
    "id": "wDXHbUmMmhRL"
   },
   "source": [
    "### Список фракталов:\n",
    "\n",
    "Кривая Коха\n",
    "| Кривая Гильберта\n",
    "| Кривая Серпинского\n",
    "| Салфетка Серпинского\n",
    "| Ковер Серпинского\n",
    "| Дерево Пифагора "
   ]
  },
  {
   "cell_type": "code",
   "execution_count": null,
   "metadata": {},
   "outputs": [],
   "source": [
    "! pip install pandas"
   ]
  },
  {
   "cell_type": "markdown",
   "metadata": {
    "id": "Wggfn8l7nG72"
   },
   "source": [
    "### Выполнение:"
   ]
  },
  {
   "cell_type": "code",
   "execution_count": 1,
   "metadata": {
    "id": "681a95mZnOSa"
   },
   "outputs": [],
   "source": [
    "import time\n",
    "import turtle\n",
    "import pandas as pd"
   ]
  },
  {
   "cell_type": "code",
   "execution_count": 2,
   "metadata": {},
   "outputs": [
    {
     "name": "stdout",
     "output_type": "stream",
     "text": [
      "Введите глубину рекурсии: 1\n",
      "Введите глубину рекурсии: 2\n",
      "Введите глубину рекурсии: 3\n"
     ]
    },
    {
     "data": {
      "text/html": [
       "<div>\n",
       "<style scoped>\n",
       "    .dataframe tbody tr th:only-of-type {\n",
       "        vertical-align: middle;\n",
       "    }\n",
       "\n",
       "    .dataframe tbody tr th {\n",
       "        vertical-align: top;\n",
       "    }\n",
       "\n",
       "    .dataframe thead th {\n",
       "        text-align: right;\n",
       "    }\n",
       "</style>\n",
       "<table border=\"1\" class=\"dataframe\">\n",
       "  <thead>\n",
       "    <tr style=\"text-align: right;\">\n",
       "      <th></th>\n",
       "      <th>Глубина фрактала</th>\n",
       "      <th>Время выполнения</th>\n",
       "    </tr>\n",
       "  </thead>\n",
       "  <tbody>\n",
       "    <tr>\n",
       "      <th>0</th>\n",
       "      <td>1</td>\n",
       "      <td>1.421036</td>\n",
       "    </tr>\n",
       "    <tr>\n",
       "      <th>1</th>\n",
       "      <td>2</td>\n",
       "      <td>3.933851</td>\n",
       "    </tr>\n",
       "    <tr>\n",
       "      <th>2</th>\n",
       "      <td>3</td>\n",
       "      <td>11.974685</td>\n",
       "    </tr>\n",
       "  </tbody>\n",
       "</table>\n",
       "</div>"
      ],
      "text/plain": [
       "   Глубина фрактала  Время выполнения\n",
       "0                 1          1.421036\n",
       "1                 2          3.933851\n",
       "2                 3         11.974685"
      ]
     },
     "execution_count": 2,
     "metadata": {},
     "output_type": "execute_result"
    }
   ],
   "source": [
    "#Кривая Коха\n",
    "\n",
    "size = 500\n",
    "\n",
    "\n",
    "turtle.reset()\n",
    "turtle.penup()\n",
    "turtle.backward(300)\n",
    "turtle.pendown()\n",
    " \n",
    "def koch_curve(size, n):\n",
    "    if n == 0:\n",
    "        turtle.forward(size)\n",
    "    else:\n",
    "        koch_curve(size / 3, n - 1)\n",
    "        turtle.left(60)\n",
    "        koch_curve(size / 3, n - 1)\n",
    "        turtle.right(120)\n",
    "        koch_curve(size / 3, n - 1)\n",
    "        turtle.left(60)\n",
    "        koch_curve(size / 3, n - 1)\n",
    "\n",
    "\n",
    "result = []\n",
    "\n",
    "for i in range(3): #пусть максимальная глубина будет 3\n",
    "    deepth = []\n",
    "    n = int(input('Введите глубину рекурсии: '))\n",
    "    start_time = time.time()\n",
    "    koch_curve(size, n)\n",
    "    deepth.append(n)\n",
    "    deepth.append(time.time() - start_time)\n",
    "    result.append(deepth)\n",
    "pd.DataFrame(result, columns = [\"Глубина фрактала\", \"Время выполнения\"])"
   ]
  },
  {
   "cell_type": "code",
   "execution_count": 4,
   "metadata": {},
   "outputs": [
    {
     "name": "stdout",
     "output_type": "stream",
     "text": [
      "Введите глубину рекурсии: 1\n",
      "Введите глубину рекурсии: 2\n",
      "Введите глубину рекурсии: 3\n"
     ]
    },
    {
     "data": {
      "text/html": [
       "<div>\n",
       "<style scoped>\n",
       "    .dataframe tbody tr th:only-of-type {\n",
       "        vertical-align: middle;\n",
       "    }\n",
       "\n",
       "    .dataframe tbody tr th {\n",
       "        vertical-align: top;\n",
       "    }\n",
       "\n",
       "    .dataframe thead th {\n",
       "        text-align: right;\n",
       "    }\n",
       "</style>\n",
       "<table border=\"1\" class=\"dataframe\">\n",
       "  <thead>\n",
       "    <tr style=\"text-align: right;\">\n",
       "      <th></th>\n",
       "      <th>Глубина фрактала</th>\n",
       "      <th>Время выполнения</th>\n",
       "    </tr>\n",
       "  </thead>\n",
       "  <tbody>\n",
       "    <tr>\n",
       "      <th>0</th>\n",
       "      <td>1</td>\n",
       "      <td>1.488030</td>\n",
       "    </tr>\n",
       "    <tr>\n",
       "      <th>1</th>\n",
       "      <td>2</td>\n",
       "      <td>5.415864</td>\n",
       "    </tr>\n",
       "    <tr>\n",
       "      <th>2</th>\n",
       "      <td>3</td>\n",
       "      <td>20.466481</td>\n",
       "    </tr>\n",
       "  </tbody>\n",
       "</table>\n",
       "</div>"
      ],
      "text/plain": [
       "   Глубина фрактала  Время выполнения\n",
       "0                 1          1.488030\n",
       "1                 2          5.415864\n",
       "2                 3         20.466481"
      ]
     },
     "execution_count": 4,
     "metadata": {},
     "output_type": "execute_result"
    }
   ],
   "source": [
    "# Кривая Гильберта\n",
    "\n",
    "turtle.reset()\n",
    "turtle.penup()\n",
    "turtle.pendown()\n",
    "\n",
    "size = 50\n",
    "\n",
    "def hilbert_curve(n, angle, size):\n",
    "    if n == 0:\n",
    "        turtle.forward(size)\n",
    "    else:\n",
    "        turtle.right(angle)\n",
    "        hilbert_curve(n - 1, -angle, size)\n",
    "        turtle.forward(size)\n",
    "        turtle.left(angle)\n",
    "        hilbert_curve(n - 1, angle, size)\n",
    "\n",
    "        turtle.forward(size)\n",
    "        hilbert_curve(n - 1, angle, size)\n",
    "\n",
    "        turtle.left(angle)\n",
    "        turtle.forward(size)\n",
    "        hilbert_curve(n - 1, -angle, size)\n",
    "        turtle.right(angle)\n",
    "\n",
    "\n",
    "result = []\n",
    "\n",
    "for i in range(3): #пусть максимальная глубина будет 3\n",
    "    deepth = []\n",
    "    n = int(input('Введите глубину рекурсии: '))\n",
    "    start_time = time.time()\n",
    "    hilbert_curve(n, 90, size / (2**(n-1)))\n",
    "    deepth.append(n)\n",
    "    deepth.append(time.time() - start_time)\n",
    "    result.append(deepth)\n",
    "    \n",
    "pd.DataFrame(result, columns = [\"Глубина фрактала\", \"Время выполнения\"])"
   ]
  },
  {
   "cell_type": "code",
   "execution_count": 5,
   "metadata": {},
   "outputs": [
    {
     "name": "stdout",
     "output_type": "stream",
     "text": [
      "Введите глубину рекурсии: 1\n",
      "Введите глубину рекурсии: 2\n",
      "Введите глубину рекурсии: 3\n"
     ]
    },
    {
     "data": {
      "text/html": [
       "<div>\n",
       "<style scoped>\n",
       "    .dataframe tbody tr th:only-of-type {\n",
       "        vertical-align: middle;\n",
       "    }\n",
       "\n",
       "    .dataframe tbody tr th {\n",
       "        vertical-align: top;\n",
       "    }\n",
       "\n",
       "    .dataframe thead th {\n",
       "        text-align: right;\n",
       "    }\n",
       "</style>\n",
       "<table border=\"1\" class=\"dataframe\">\n",
       "  <thead>\n",
       "    <tr style=\"text-align: right;\">\n",
       "      <th></th>\n",
       "      <th>Глубина фрактала</th>\n",
       "      <th>Время выполнения</th>\n",
       "    </tr>\n",
       "  </thead>\n",
       "  <tbody>\n",
       "    <tr>\n",
       "      <th>0</th>\n",
       "      <td>1</td>\n",
       "      <td>2.485494</td>\n",
       "    </tr>\n",
       "    <tr>\n",
       "      <th>1</th>\n",
       "      <td>2</td>\n",
       "      <td>9.590682</td>\n",
       "    </tr>\n",
       "    <tr>\n",
       "      <th>2</th>\n",
       "      <td>3</td>\n",
       "      <td>38.734330</td>\n",
       "    </tr>\n",
       "  </tbody>\n",
       "</table>\n",
       "</div>"
      ],
      "text/plain": [
       "   Глубина фрактала  Время выполнения\n",
       "0                 1          2.485494\n",
       "1                 2          9.590682\n",
       "2                 3         38.734330"
      ]
     },
     "execution_count": 5,
     "metadata": {},
     "output_type": "execute_result"
    }
   ],
   "source": [
    "# Кривая Серпинского\n",
    "\n",
    "turtle.reset()\n",
    "turtle.penup()\n",
    "turtle.pendown()\n",
    "\n",
    "#кривая Серпинского\n",
    "\n",
    "def half_sierpinski_line(ln, n):\n",
    "    if n == 0:\n",
    "        return\n",
    "    half_sierpinski_line(ln, n-1)\n",
    "    turtle.left(45)\n",
    "    turtle.forward(ln*(2**(0.5)))\n",
    "    turtle.left(45)\n",
    "    half_sierpinski_line(ln, n-1)\n",
    "    turtle.right(90)\n",
    "    turtle.forward(ln)\n",
    "    turtle.right(90)\n",
    "    half_sierpinski_line(ln, n-1)\n",
    "    turtle.left(45)\n",
    "    turtle.forward(ln*(2**(0.5)))\n",
    "    turtle.left(45)\n",
    "    half_sierpinski_line(ln, n-1)\n",
    "    \n",
    "def sierpinski_line(ln, n):\n",
    "    half_sierpinski_line(ln, n)\n",
    "    turtle.right(90)\n",
    "    turtle.forward(ln)\n",
    "    turtle.right(90)\n",
    "    half_sierpinski_line(ln, n)\n",
    "    turtle.right(90)\n",
    "    turtle.forward(ln)\n",
    "    turtle.right(90)\n",
    "    \n",
    "    \n",
    "result = []\n",
    "\n",
    "for i in range(3): #пусть максимальная глубина будет 3\n",
    "    deepth = []\n",
    "    n = int(input('Введите глубину рекурсии: '))\n",
    "    start_time = time.time()\n",
    "    sierpinski_line(5, n)\n",
    "    deepth.append(n)\n",
    "    deepth.append(time.time() - start_time)\n",
    "    result.append(deepth)\n",
    "    \n",
    "pd.DataFrame(result, columns = [\"Глубина фрактала\", \"Время выполнения\"])"
   ]
  },
  {
   "cell_type": "code",
   "execution_count": 6,
   "metadata": {},
   "outputs": [
    {
     "name": "stdout",
     "output_type": "stream",
     "text": [
      "Введите глубину рекурсии: 1\n",
      "Введите глубину рекурсии: 2\n",
      "Введите глубину рекурсии: 3\n"
     ]
    },
    {
     "data": {
      "text/html": [
       "<div>\n",
       "<style scoped>\n",
       "    .dataframe tbody tr th:only-of-type {\n",
       "        vertical-align: middle;\n",
       "    }\n",
       "\n",
       "    .dataframe tbody tr th {\n",
       "        vertical-align: top;\n",
       "    }\n",
       "\n",
       "    .dataframe thead th {\n",
       "        text-align: right;\n",
       "    }\n",
       "</style>\n",
       "<table border=\"1\" class=\"dataframe\">\n",
       "  <thead>\n",
       "    <tr style=\"text-align: right;\">\n",
       "      <th></th>\n",
       "      <th>Глубина фрактала</th>\n",
       "      <th>Время выполнения</th>\n",
       "    </tr>\n",
       "  </thead>\n",
       "  <tbody>\n",
       "    <tr>\n",
       "      <th>0</th>\n",
       "      <td>1</td>\n",
       "      <td>5.004209</td>\n",
       "    </tr>\n",
       "    <tr>\n",
       "      <th>1</th>\n",
       "      <td>2</td>\n",
       "      <td>14.077240</td>\n",
       "    </tr>\n",
       "    <tr>\n",
       "      <th>2</th>\n",
       "      <td>3</td>\n",
       "      <td>40.549881</td>\n",
       "    </tr>\n",
       "  </tbody>\n",
       "</table>\n",
       "</div>"
      ],
      "text/plain": [
       "   Глубина фрактала  Время выполнения\n",
       "0                 1          5.004209\n",
       "1                 2         14.077240\n",
       "2                 3         40.549881"
      ]
     },
     "execution_count": 6,
     "metadata": {},
     "output_type": "execute_result"
    }
   ],
   "source": [
    "# Треугольник \\ салфетка Серпинского\n",
    "\n",
    "turtle.reset()\n",
    "turtle.penup()\n",
    "turtle.pendown()\n",
    "\n",
    "size = 200\n",
    "\n",
    "def triangle_serp(n, size):\n",
    "    if n == 0:\n",
    "        for i in range(3):\n",
    "            turtle.forward(size)\n",
    "            turtle.left(120)\n",
    "        return\n",
    "\n",
    "    triangle_serp(n - 1, size)\n",
    "    turtle.forward(size * 2**(n-1))\n",
    "    \n",
    "    triangle_serp(n - 1, size)\n",
    "    turtle.left(120)\n",
    "    turtle.fd(size * 2**(n-1))\n",
    "    turtle.right(120)\n",
    "    \n",
    "    triangle_serp(n - 1, size)\n",
    "    turtle.right(120)\n",
    "    turtle.forward(size * 2**(n-1))\n",
    "    turtle.left(120)\n",
    "\n",
    "result = []\n",
    "\n",
    "for i in range(3): #пусть максимальная глубина будет 3\n",
    "    deepth = []\n",
    "    n = int(input('Введите глубину рекурсии: '))\n",
    "    start_time = time.time()\n",
    "    triangle_serp(n, size / 2**n)\n",
    "    deepth.append(n)\n",
    "    deepth.append(time.time() - start_time)\n",
    "    result.append(deepth)\n",
    "    \n",
    "pd.DataFrame(result, columns = [\"Глубина фрактала\", \"Время выполнения\"])"
   ]
  },
  {
   "cell_type": "code",
   "execution_count": 7,
   "metadata": {},
   "outputs": [
    {
     "name": "stdout",
     "output_type": "stream",
     "text": [
      "Введите глубину рекурсии: 1\n",
      "Введите глубину рекурсии: 2\n",
      "Введите глубину рекурсии: 3\n"
     ]
    },
    {
     "data": {
      "text/html": [
       "<div>\n",
       "<style scoped>\n",
       "    .dataframe tbody tr th:only-of-type {\n",
       "        vertical-align: middle;\n",
       "    }\n",
       "\n",
       "    .dataframe tbody tr th {\n",
       "        vertical-align: top;\n",
       "    }\n",
       "\n",
       "    .dataframe thead th {\n",
       "        text-align: right;\n",
       "    }\n",
       "</style>\n",
       "<table border=\"1\" class=\"dataframe\">\n",
       "  <thead>\n",
       "    <tr style=\"text-align: right;\">\n",
       "      <th></th>\n",
       "      <th>Глубина фрактала</th>\n",
       "      <th>Время выполнения</th>\n",
       "    </tr>\n",
       "  </thead>\n",
       "  <tbody>\n",
       "    <tr>\n",
       "      <th>0</th>\n",
       "      <td>1</td>\n",
       "      <td>11.424467</td>\n",
       "    </tr>\n",
       "    <tr>\n",
       "      <th>1</th>\n",
       "      <td>2</td>\n",
       "      <td>77.448000</td>\n",
       "    </tr>\n",
       "    <tr>\n",
       "      <th>2</th>\n",
       "      <td>3</td>\n",
       "      <td>549.530523</td>\n",
       "    </tr>\n",
       "  </tbody>\n",
       "</table>\n",
       "</div>"
      ],
      "text/plain": [
       "   Глубина фрактала  Время выполнения\n",
       "0                 1         11.424467\n",
       "1                 2         77.448000\n",
       "2                 3        549.530523"
      ]
     },
     "execution_count": 7,
     "metadata": {},
     "output_type": "execute_result"
    }
   ],
   "source": [
    "# Ковер Серпинского\n",
    "\n",
    "turtle.reset()\n",
    "turtle.penup()\n",
    "turtle.pendown()\n",
    "\n",
    "size = 200\n",
    "\n",
    "def carpet_serp(n, size):\n",
    "    if n == 0:\n",
    "        # Для закрашивания квадратов\n",
    "        turtle.begin_fill()\n",
    "        \n",
    "        for i in range(4):\n",
    "            turtle.forward(size)\n",
    "            turtle.left(90)\n",
    "    \n",
    "        turtle.end_fill()\n",
    "        \n",
    "        return\n",
    "    else:\n",
    "\n",
    "        for i in range(4):\n",
    "            carpet_serp(n - 1, size // 3)\n",
    "            turtle.forward(size / 3)\n",
    "\n",
    "            carpet_serp(n - 1, size // 3)\n",
    "            turtle.forward(size / 3)\n",
    "\n",
    "            turtle.forward(size / 3)\n",
    "            turtle.left(90)\n",
    "\n",
    "\n",
    "result = []\n",
    "\n",
    "for i in range(3): #пусть максимальная глубина будет 3\n",
    "    deepth = []\n",
    "    n = int(input('Введите глубину рекурсии: '))\n",
    "    start_time = time.time()\n",
    "    carpet_serp(n, size)\n",
    "    deepth.append(n)\n",
    "    deepth.append(time.time() - start_time)\n",
    "    result.append(deepth)\n",
    "    \n",
    "pd.DataFrame(result, columns = [\"Глубина фрактала\", \"Время выполнения\"])"
   ]
  },
  {
   "cell_type": "code",
   "execution_count": 8,
   "metadata": {},
   "outputs": [
    {
     "name": "stdout",
     "output_type": "stream",
     "text": [
      "Введите глубину рекурсии: 1\n",
      "Введите глубину рекурсии: 2\n",
      "Введите глубину рекурсии: 3\n"
     ]
    },
    {
     "data": {
      "text/html": [
       "<div>\n",
       "<style scoped>\n",
       "    .dataframe tbody tr th:only-of-type {\n",
       "        vertical-align: middle;\n",
       "    }\n",
       "\n",
       "    .dataframe tbody tr th {\n",
       "        vertical-align: top;\n",
       "    }\n",
       "\n",
       "    .dataframe thead th {\n",
       "        text-align: right;\n",
       "    }\n",
       "</style>\n",
       "<table border=\"1\" class=\"dataframe\">\n",
       "  <thead>\n",
       "    <tr style=\"text-align: right;\">\n",
       "      <th></th>\n",
       "      <th>Глубина фрактала</th>\n",
       "      <th>Время выполнения</th>\n",
       "    </tr>\n",
       "  </thead>\n",
       "  <tbody>\n",
       "    <tr>\n",
       "      <th>0</th>\n",
       "      <td>1</td>\n",
       "      <td>11.424467</td>\n",
       "    </tr>\n",
       "    <tr>\n",
       "      <th>1</th>\n",
       "      <td>2</td>\n",
       "      <td>77.448000</td>\n",
       "    </tr>\n",
       "    <tr>\n",
       "      <th>2</th>\n",
       "      <td>3</td>\n",
       "      <td>549.530523</td>\n",
       "    </tr>\n",
       "    <tr>\n",
       "      <th>3</th>\n",
       "      <td>1</td>\n",
       "      <td>4.487490</td>\n",
       "    </tr>\n",
       "    <tr>\n",
       "      <th>4</th>\n",
       "      <td>2</td>\n",
       "      <td>10.355509</td>\n",
       "    </tr>\n",
       "    <tr>\n",
       "      <th>5</th>\n",
       "      <td>3</td>\n",
       "      <td>20.405548</td>\n",
       "    </tr>\n",
       "  </tbody>\n",
       "</table>\n",
       "</div>"
      ],
      "text/plain": [
       "   Глубина фрактала  Время выполнения\n",
       "0                 1         11.424467\n",
       "1                 2         77.448000\n",
       "2                 3        549.530523\n",
       "3                 1          4.487490\n",
       "4                 2         10.355509\n",
       "5                 3         20.405548"
      ]
     },
     "execution_count": 8,
     "metadata": {},
     "output_type": "execute_result"
    }
   ],
   "source": [
    "# Дерево Пифагора\n",
    "\n",
    "turtle.reset()\n",
    "turtle.penup()\n",
    "turtle.pendown()\n",
    "\n",
    "size = 100\n",
    "\n",
    "def tree_pyth(turtule, n, size):\n",
    "    if (n == 0):\n",
    "        for i in range(4):\n",
    "            turtule.forward(size)\n",
    "            turtule.right(90)\n",
    "        return\n",
    "\n",
    "    for i in range(4):\n",
    "        turtule.forward(size)\n",
    "        turtule.right(90)\n",
    "\n",
    "    turtule.forward(size)\n",
    "    another_turt = turtule.clone()\n",
    "    turtule.left(45)\n",
    "    tree_pyth(turtule, n - 1, (size * 2**(1/2)) / 2)\n",
    "\n",
    "    another_turt.right(45)\n",
    "    another_turt.forward((size * 2**(1/2)) / 2)\n",
    "    tree_pyth(another_turt, n - 1, (size * 2 ** (1 / 2)) / 2)\n",
    "\n",
    "\n",
    "for i in range(3): #пусть максимальная глубина будет 3\n",
    "    deepth = []\n",
    "    n = int(input('Введите глубину рекурсии: '))\n",
    "    start_time = time.time()\n",
    "    turtle.left(90)\n",
    "    tree_pyth(turtle, n, size)\n",
    "    deepth.append(n)\n",
    "    deepth.append(time.time() - start_time)\n",
    "    result.append(deepth)\n",
    "    \n",
    "pd.DataFrame(result, columns = [\"Глубина фрактала\", \"Время выполнения\"])"
   ]
  },
  {
   "cell_type": "markdown",
   "metadata": {
    "id": "diOb-K7LnO5a"
   },
   "source": [
    "### Вывод"
   ]
  },
  {
   "cell_type": "code",
   "execution_count": null,
   "metadata": {},
   "outputs": [],
   "source": []
  }
 ],
 "metadata": {
  "colab": {
   "collapsed_sections": [],
   "name": "Lab5.ipynb",
   "provenance": []
  },
  "kernelspec": {
   "display_name": "Python 3 (ipykernel)",
   "language": "python",
   "name": "python3"
  },
  "language_info": {
   "codemirror_mode": {
    "name": "ipython",
    "version": 3
   },
   "file_extension": ".py",
   "mimetype": "text/x-python",
   "name": "python",
   "nbconvert_exporter": "python",
   "pygments_lexer": "ipython3",
   "version": "3.10.2"
  }
 },
 "nbformat": 4,
 "nbformat_minor": 1
}
