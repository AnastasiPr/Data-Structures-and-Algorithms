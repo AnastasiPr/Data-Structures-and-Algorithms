{
 "cells": [
  {
   "cell_type": "markdown",
   "id": "fifteen-sailing",
   "metadata": {},
   "source": [
    "# Лабораторная работа №2\n",
    "## Выполнил студент группы БВТ2004 Гончаренко Анастасия Анатольевна"
   ]
  },
  {
   "cell_type": "markdown",
   "id": "particular-syndicate",
   "metadata": {},
   "source": [
    "### Оглавление\n",
    "1. [Задание 1](#Задание-№1)\n",
    "2. [Задание 2](#Задание-№2)\n",
    "3. [Задание 3](#Задание-№3)"
   ]
  },
  {
   "cell_type": "markdown",
   "id": "arctic-stocks",
   "metadata": {},
   "source": [
    "### Задание №1\n",
    "Реализовать методы поиска в соответствии с заданием. Организовать генерацию начального набора случайных данных. Для всех вариантов добавить реализацию добавления, поиска и удаления элементов. Оценить время работы каждого алгоритма поиска и сравнить его со временем работы стандартной функции поиска, используемой в выбранном языке программирования."
   ]
  },
  {
   "cell_type": "code",
   "execution_count": 5,
   "id": "caring-truck",
   "metadata": {
    "scrolled": true
   },
   "outputs": [
    {
     "name": "stdout",
     "output_type": "stream",
     "text": [
      "10\n",
      "0\n",
      "100\n",
      "[9, 16, 19, 29, 32, 36, 45, 55, 68, 72]\n"
     ]
    }
   ],
   "source": [
    "#Генерация начального набора случайных данных\n",
    "import time\n",
    "from random import randint\n",
    "import copy\n",
    "\n",
    "length = int(input())\n",
    "min = int(input())\n",
    "max = int(input())\n",
    "\n",
    "list = []\n",
    "for i in range(length):\n",
    "    list.append(randint(min, max))\n",
    "\n",
    "list.sort() \n",
    "element = list[randint(0, length - 1)]\n",
    "\n",
    "print(list)"
   ]
  },
  {
   "cell_type": "code",
   "execution_count": 14,
   "id": "9b15fcb0",
   "metadata": {},
   "outputs": [
    {
     "name": "stdout",
     "output_type": "stream",
     "text": [
      "Key:  45\n",
      "Found index:  6\n",
      "--- 0.99945 ms ---\n"
     ]
    }
   ],
   "source": [
    "#Бинарный поиск\n",
    "def BinarySearch(array, key):\n",
    "    first = 0\n",
    "    last = len(array)-1\n",
    "    index = -1\n",
    "    while (first <= last) and (index == -1):\n",
    "        mid = (first + last) // 2\n",
    "        if array[mid] == key:\n",
    "            index = mid\n",
    "            break\n",
    "        else:\n",
    "            if key < array[mid]:\n",
    "                last = mid -1\n",
    "            else:\n",
    "                first = mid +1\n",
    "    return index\n",
    "\n",
    "start_time = time.time()\n",
    "print(\"Key: \", element)\n",
    "print(\"Found index: \", BinarySearch(list, element))\n",
    "binary_time = (time.time() - start_time)*1000\n",
    "print(\"--- {:.5f} ms ---\".format(binary_time))"
   ]
  },
  {
   "cell_type": "code",
   "execution_count": null,
   "id": "75af3ea8",
   "metadata": {},
   "outputs": [],
   "source": [
    "#Бинарное дерево\n",
    "class Tree:\n",
    "    class _Node:\n",
    "\n",
    "        def __init__(self, rd=None):\n",
    "            self.znach = None\n",
    "            self.roditel = rd\n",
    "            self.right = None\n",
    "            self.left = None\n",
    "\n",
    "        def is_left(self):\n",
    "            return self.roditel.left == self\n",
    "\n",
    "        def is_koren(self):\n",
    "            return self.roditel == None\n",
    "\n",
    "    def __init__(self):\n",
    "        self._koren = Tree._Node()\n",
    "\n",
    "    def __contains(self, inp, node=None):\n",
    "        if node == None:\n",
    "            node = self._koren\n",
    "        if node.znach == None:\n",
    "            return False, node\n",
    "        if node.znach == inp:\n",
    "            return True, node\n",
    "        if (inp > node.znach):\n",
    "            return self.__contains(inp, node.right)\n",
    "        if (inp < node.znach):\n",
    "            return self.__contains(inp, node.left)\n",
    "        \n",
    "    def contains(self, inp):\n",
    "        c, _ = self.__contains(inp)\n",
    "        return c\n",
    "\n",
    "    def add(self, inp):\n",
    "        c, n = self.__contains(inp)\n",
    "        if not c:\n",
    "            n.znach = inp\n",
    "            n.right = Tree._Node(n)\n",
    "            n.left = Tree._Node(n)\n",
    "        return not c\n",
    "\n",
    "    def __find(self, mode, node=None):\n",
    "        if node == None:\n",
    "            node = self._koren\n",
    "        if mode:\n",
    "            if node.left.znach != None:\n",
    "                return self.__find(mode, node.left)\n",
    "        else:\n",
    "            if node.right.znach != None:\n",
    "                return self.__find(mode, node.right)\n",
    "        return node.znach, node\n",
    "\n",
    "    def __remove_edge(self, node):\n",
    "        node.left.roditel = None\n",
    "        node.right.roditel = None\n",
    "        node.left = None\n",
    "        node.right = None\n",
    "        node.znach = None\n",
    "        \n",
    "    def __remove(self, node):\n",
    "        if node.left.znach == None:\n",
    "            node.left.roditel == None\n",
    "            if node.is_koren():\n",
    "                node.right.roditel = None\n",
    "                self._koren = node.right\n",
    "            else:\n",
    "                node.right.roditel = node.roditel\n",
    "                if node.is_left():\n",
    "                    node.roditel.left = node.right\n",
    "                else:\n",
    "                    node.roditel.right = node.right\n",
    "                node.roditel = None\n",
    "            node.right = None\n",
    "            node.left = None\n",
    "            node.znach = None\n",
    "            return\n",
    "        if node.right.znach == None:\n",
    "            node.right.roditel == None\n",
    "            if node.is_koren():\n",
    "                node.left.roditel = None\n",
    "                self._koren = node.left\n",
    "            else:\n",
    "                node.left.roditel = node.roditel\n",
    "                if node.is_left():\n",
    "                    node.roditel.left = node.left\n",
    "                else:\n",
    "                    node.roditel.right = node.left\n",
    "                node.roditel = None\n",
    "            node.right = None\n",
    "            node.left = None\n",
    "            node.znach = None\n",
    "            return\n",
    "        _, t = self.__find(True, node.right)\n",
    "        t.left.roditel = None\n",
    "        t.left = node.left\n",
    "        node.left.roditel = t\n",
    "        if node.is_koren():\n",
    "            node.right.roditel = None\n",
    "            self._koren = node.right\n",
    "        else:\n",
    "            node.right.roditel = node.roditel\n",
    "            if node.is_left():\n",
    "                node.roditel.left = node.right\n",
    "            else:\n",
    "                node.roditel.right = node.right\n",
    "            node.roditel = None\n",
    "        node.right = None\n",
    "        node.left = None\n",
    "        node.znach = None\n",
    "        return\n",
    "    \n",
    "    def remove(self, inp):\n",
    "        c, n = self.__contains(inp)\n",
    "        if c:\n",
    "            if (n.left.znach == None) and (n.right.znach == None):\n",
    "                self.__remove_edge(n)\n",
    "                return c\n",
    "            self.__remove(n)\n",
    "        return c\n",
    "        \n",
    "    def min(self):\n",
    "        c, _ = self.__find(True)\n",
    "        return c\n",
    "\n",
    "    def max(self):\n",
    "        c, _ = self.__find(False)\n",
    "        return c\n",
    "    \n",
    "    def __to_list(self, arr, node):\n",
    "        if node.left.znach != None:\n",
    "            self.__to_list(arr, node.left)\n",
    "        arr.append(node.znach)\n",
    "        if node.right.znach != None:\n",
    "            self.__to_list(arr, node.right)\n",
    "\n",
    "    def tolist(self):\n",
    "        ret = []\n",
    "        self.__to_list(ret, self._koren)\n",
    "        return ret\n"
   ]
  },
  {
   "cell_type": "code",
   "execution_count": 17,
   "id": "abe4b0b4",
   "metadata": {},
   "outputs": [
    {
     "ename": "TypeError",
     "evalue": "'int' object is not callable",
     "output_type": "error",
     "traceback": [
      "\u001b[1;31m---------------------------------------------------------------------------\u001b[0m",
      "\u001b[1;31mTypeError\u001b[0m                                 Traceback (most recent call last)",
      "Input \u001b[1;32mIn [17]\u001b[0m, in \u001b[0;36m<module>\u001b[1;34m\u001b[0m\n\u001b[0;32m     33\u001b[0m     \u001b[38;5;28;01mpass\u001b[39;00m\n\u001b[0;32m     35\u001b[0m start_time \u001b[38;5;241m=\u001b[39m time\u001b[38;5;241m.\u001b[39mtime()\n\u001b[1;32m---> 36\u001b[0m \u001b[38;5;28mprint\u001b[39m(\u001b[43mFibonacciSearch\u001b[49m\u001b[43m(\u001b[49m\u001b[38;5;28;43mlist\u001b[39;49m\u001b[43m,\u001b[49m\u001b[43m \u001b[49m\u001b[43melement\u001b[49m\u001b[43m)\u001b[49m)\n\u001b[0;32m     37\u001b[0m fibonacci_time \u001b[38;5;241m=\u001b[39m \u001b[38;5;28mround\u001b[39m((time\u001b[38;5;241m.\u001b[39mtime() \u001b[38;5;241m-\u001b[39m start_time)\u001b[38;5;241m*\u001b[39m\u001b[38;5;241m1000\u001b[39m)\n\u001b[0;32m     38\u001b[0m \u001b[38;5;28mprint\u001b[39m(\u001b[38;5;124m\"\u001b[39m\u001b[38;5;124m--- \u001b[39m\u001b[38;5;132;01m{:.5f}\u001b[39;00m\u001b[38;5;124m ms ---\u001b[39m\u001b[38;5;124m\"\u001b[39m\u001b[38;5;241m.\u001b[39mformat(fibonacci_time))\n",
      "Input \u001b[1;32mIn [17]\u001b[0m, in \u001b[0;36mFibonacciSearch\u001b[1;34m(array, value)\u001b[0m\n\u001b[0;32m     11\u001b[0m index \u001b[38;5;241m=\u001b[39m \u001b[38;5;241m-\u001b[39m\u001b[38;5;241m1\u001b[39m;\n\u001b[0;32m     12\u001b[0m \u001b[38;5;28;01mwhile\u001b[39;00m (fibM \u001b[38;5;241m>\u001b[39m \u001b[38;5;241m1\u001b[39m):\n\u001b[1;32m---> 13\u001b[0m     i \u001b[38;5;241m=\u001b[39m \u001b[38;5;28;43mmin\u001b[39;49m\u001b[43m(\u001b[49m\u001b[43mindex\u001b[49m\u001b[43m \u001b[49m\u001b[38;5;241;43m+\u001b[39;49m\u001b[43m \u001b[49m\u001b[43mfibM_minus_2\u001b[49m\u001b[43m,\u001b[49m\u001b[43m \u001b[49m\u001b[43m(\u001b[49m\u001b[38;5;28;43mlen\u001b[39;49m\u001b[43m(\u001b[49m\u001b[43marray\u001b[49m\u001b[43m)\u001b[49m\u001b[38;5;241;43m-\u001b[39;49m\u001b[38;5;241;43m1\u001b[39;49m\u001b[43m)\u001b[49m\u001b[43m)\u001b[49m\n\u001b[0;32m     14\u001b[0m     \u001b[38;5;28;01mif\u001b[39;00m (array[i] \u001b[38;5;241m<\u001b[39m value):\n\u001b[0;32m     15\u001b[0m         fibM \u001b[38;5;241m=\u001b[39m fibM_minus_1\n",
      "\u001b[1;31mTypeError\u001b[0m: 'int' object is not callable"
     ]
    }
   ],
   "source": [
    "#Метод Фибоначчи\n",
    "def FibonacciSearch(array, value):\n",
    "    fibM_minus_2 = 0\n",
    "    fibM_minus_1 = 1\n",
    "    fibM = fibM_minus_1 + fibM_minus_2\n",
    "    while (fibM < len(array)):\n",
    "        fibM_minus_2 = fibM_minus_1\n",
    "        fibM_minus_1 = fibM\n",
    "        fibM = fibM_minus_1 + fibM_minus_2\n",
    "    index = -1;\n",
    "    while (fibM > 1):\n",
    "        i = min(index + fibM_minus_2, (len(array)-1))\n",
    "        if (array[i] < value):\n",
    "            fibM = fibM_minus_1\n",
    "            fibM_minus_1 = fibM_minus_2\n",
    "            fibM_minus_2 = fibM - fibM_minus_1\n",
    "            index = i\n",
    "        elif (array[i] > value):\n",
    "            fibM = fibM_minus_2\n",
    "            fibM_minus_1 = fibM_minus_1 - fibM_minus_2\n",
    "            fibM_minus_2 = fibM - fibM_minus_1\n",
    "        else :\n",
    "            return i\n",
    "    if(fibM_minus_1 and index < (len(array)-1) and lys[index+1] == value):\n",
    "        return index+1;\n",
    "    return -1\n",
    "\n",
    "def FibonacciRemove(array, value):\n",
    "    pass\n",
    "\n",
    "def FibonacciAppend(array, value):\n",
    "    pass\n",
    "\n",
    "start_time = time.time()\n",
    "print(FibonacciSearch(list, element))\n",
    "fibonacci_time = round((time.time() - start_time)*1000)\n",
    "print(\"--- {:.5f} ms ---\".format(fibonacci_time))"
   ]
  },
  {
   "cell_type": "code",
   "execution_count": 20,
   "id": "34ec2894",
   "metadata": {},
   "outputs": [
    {
     "ename": "TypeError",
     "evalue": "'int' object is not callable",
     "output_type": "error",
     "traceback": [
      "\u001b[1;31m---------------------------------------------------------------------------\u001b[0m",
      "\u001b[1;31mTypeError\u001b[0m                                 Traceback (most recent call last)",
      "Input \u001b[1;32mIn [20]\u001b[0m, in \u001b[0;36m<module>\u001b[1;34m\u001b[0m\n\u001b[0;32m     19\u001b[0m     \u001b[38;5;28;01mpass\u001b[39;00m\n\u001b[0;32m     21\u001b[0m start_time \u001b[38;5;241m=\u001b[39m time\u001b[38;5;241m.\u001b[39mtime()\n\u001b[1;32m---> 22\u001b[0m \u001b[38;5;28mprint\u001b[39m(\u001b[43mFibonacciSearch\u001b[49m\u001b[43m(\u001b[49m\u001b[38;5;28;43mlist\u001b[39;49m\u001b[43m,\u001b[49m\u001b[43m \u001b[49m\u001b[43melement\u001b[49m\u001b[43m)\u001b[49m)\n\u001b[0;32m     23\u001b[0m interpolation_time \u001b[38;5;241m=\u001b[39m (time\u001b[38;5;241m.\u001b[39mtime() \u001b[38;5;241m-\u001b[39m start_time)\u001b[38;5;241m*\u001b[39m\u001b[38;5;241m1000\u001b[39m\n\u001b[0;32m     24\u001b[0m \u001b[38;5;28mprint\u001b[39m(\u001b[38;5;124m\"\u001b[39m\u001b[38;5;124m--- \u001b[39m\u001b[38;5;132;01m{:.5f}\u001b[39;00m\u001b[38;5;124m ms ---\u001b[39m\u001b[38;5;124m\"\u001b[39m\u001b[38;5;241m.\u001b[39mformat(interpolation_time))\n",
      "Input \u001b[1;32mIn [17]\u001b[0m, in \u001b[0;36mFibonacciSearch\u001b[1;34m(array, value)\u001b[0m\n\u001b[0;32m     11\u001b[0m index \u001b[38;5;241m=\u001b[39m \u001b[38;5;241m-\u001b[39m\u001b[38;5;241m1\u001b[39m;\n\u001b[0;32m     12\u001b[0m \u001b[38;5;28;01mwhile\u001b[39;00m (fibM \u001b[38;5;241m>\u001b[39m \u001b[38;5;241m1\u001b[39m):\n\u001b[1;32m---> 13\u001b[0m     i \u001b[38;5;241m=\u001b[39m \u001b[38;5;28;43mmin\u001b[39;49m\u001b[43m(\u001b[49m\u001b[43mindex\u001b[49m\u001b[43m \u001b[49m\u001b[38;5;241;43m+\u001b[39;49m\u001b[43m \u001b[49m\u001b[43mfibM_minus_2\u001b[49m\u001b[43m,\u001b[49m\u001b[43m \u001b[49m\u001b[43m(\u001b[49m\u001b[38;5;28;43mlen\u001b[39;49m\u001b[43m(\u001b[49m\u001b[43marray\u001b[49m\u001b[43m)\u001b[49m\u001b[38;5;241;43m-\u001b[39;49m\u001b[38;5;241;43m1\u001b[39;49m\u001b[43m)\u001b[49m\u001b[43m)\u001b[49m\n\u001b[0;32m     14\u001b[0m     \u001b[38;5;28;01mif\u001b[39;00m (array[i] \u001b[38;5;241m<\u001b[39m value):\n\u001b[0;32m     15\u001b[0m         fibM \u001b[38;5;241m=\u001b[39m fibM_minus_1\n",
      "\u001b[1;31mTypeError\u001b[0m: 'int' object is not callable"
     ]
    }
   ],
   "source": [
    "#Интерполяционный\n",
    "def InterpolationSearch(array, value):\n",
    "    low = 0\n",
    "    high = (len(array) - 1)\n",
    "    while low <= high and element >= array[low] and value <= array[high]:\n",
    "        index = low + int(((float(high - low) / ( array[high] - array[low])) * ( value - array[low])))\n",
    "        if array[index] == value:\n",
    "            return index\n",
    "        if array[index] < value:\n",
    "            low = index + 1;\n",
    "        else:\n",
    "            high = index - 1;\n",
    "    return -1\n",
    "\n",
    "def InterpolationRemove(array, value):\n",
    "    pass\n",
    "\n",
    "def InterpolationAppend(array, value):\n",
    "    pass\n",
    "\n",
    "start_time = time.time()\n",
    "print(FibonacciSearch(list, element))\n",
    "interpolation_time = (time.time() - start_time)*1000\n",
    "print(\"--- {:.5f} ms ---\".format(interpolation_time))"
   ]
  },
  {
   "cell_type": "markdown",
   "id": "maritime-conversation",
   "metadata": {},
   "source": [
    "### Задание №2\n",
    "Написать соответствующие решения для заданных методов."
   ]
  },
  {
   "cell_type": "code",
   "execution_count": null,
   "id": "97f9de37",
   "metadata": {},
   "outputs": [],
   "source": [
    "#Простое рехэширование"
   ]
  },
  {
   "cell_type": "code",
   "execution_count": null,
   "id": "b4b80e3a",
   "metadata": {},
   "outputs": [],
   "source": [
    "#Рехэширование с помощью псевдослучайных чисел\n"
   ]
  },
  {
   "cell_type": "code",
   "execution_count": null,
   "id": "1addc092",
   "metadata": {},
   "outputs": [],
   "source": [
    "#Метод цепочек"
   ]
  },
  {
   "cell_type": "markdown",
   "id": "catholic-roots",
   "metadata": {},
   "source": [
    "### Задание №3\n",
    "Расставить на стандартной 64-клеточной шахматной доске 8 ферзей так, чтобы ни один из них не находился под боем другого». Подразумевается, что ферзь бьёт все клетки, расположенные по вертикалям, горизонталям и обеим диагоналям\n",
    "Написать программу,  которая находит хотя бы один способ решения задач.\n"
   ]
  },
  {
   "cell_type": "code",
   "execution_count": 21,
   "id": "09de30c9",
   "metadata": {},
   "outputs": [
    {
     "name": "stdout",
     "output_type": "stream",
     "text": [
      "[[8, 3], [4, 5], [2, 2], [6, 8], [1, 4], [3, 7], [7, 6], [5, 1]]\n"
     ]
    }
   ],
   "source": [
    "import random as r\n",
    "ferzi = []\n",
    "while len(ferzi) < 8:\n",
    "    ferzi = []\n",
    "    doskat = [[i, j] for i in range(1,9) for j in range(1,9)]\n",
    "    for _ in range(8):\n",
    "        t = r.randint(0,len(doskat)-1)\n",
    "        ferzi.append(doskat.pop(t))\n",
    "        rm = []\n",
    "        for i, e in enumerate(doskat):\n",
    "            if e[0] == ferzi[-1][0]:\n",
    "                rm.append(i)\n",
    "                continue\n",
    "            if e[1] == ferzi[-1][1]:\n",
    "                rm.append(i)\n",
    "                continue\n",
    "            if (e[0] + e[1]) == (ferzi[-1][0] + ferzi[-1][1]):\n",
    "                rm.append(i)\n",
    "                continue\n",
    "            if (e[0] - e[1]) == (ferzi[-1][0] - ferzi[-1][1]):\n",
    "                rm.append(i)\n",
    "        k = 0\n",
    "        for i in rm:\n",
    "            doskat.pop(i - k)\n",
    "            k += 1\n",
    "        if len(doskat) == 0:\n",
    "            break\n",
    "print(ferzi)"
   ]
  }
 ],
 "metadata": {
  "kernelspec": {
   "display_name": "Python 3 (ipykernel)",
   "language": "python",
   "name": "python3"
  },
  "language_info": {
   "codemirror_mode": {
    "name": "ipython",
    "version": 3
   },
   "file_extension": ".py",
   "mimetype": "text/x-python",
   "name": "python",
   "nbconvert_exporter": "python",
   "pygments_lexer": "ipython3",
   "version": "3.10.2"
  }
 },
 "nbformat": 4,
 "nbformat_minor": 5
}
